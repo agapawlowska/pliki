{
 "cells": [
  {
   "cell_type": "markdown",
   "metadata": {},
   "source": [
    "**Seria warsztatów z analizy danych w Pythonie**\n",
    "\n",
    "_Zadanie rekrutacyjne_\n",
    "\n",
    "Napisz funkcję <code><font color=\"blue\">are_anagrams</font>(s1, s2, s3)</code>, która zwróci:\n",
    "\n",
    "* <code>True</code>, jeżeli łańcuchy znaków <code>s1, s2, s3</code> są anagramami,\n",
    "\n",
    "* <code>False</code>, jeżeli łańcuchy znaków <code>s1, s2, s3</code> nie są anagramami.\n",
    "\n",
    "Załóż, że maksymalna długość każdego z łańcuchów znaków jest równa **5**.\n",
    "\n",
    "Uzasadnij zaproponowane rozwiązanie, umieszczając komentarze w treści kodu."
   ]
  },
  {
   "cell_type": "code",
   "execution_count": 7,
   "metadata": {},
   "outputs": [],
   "source": [
    "def are_anagrams(s1, s2, s3):\n",
    "    while len(s1)==len(s2)==len(s3): #anagramy mają tą samą liczbę znaków stąd warunek na te same długości ciągów znaków wejściowych\n",
    "        a1 = [a for a in s1] #tworzę 3 osobne listy zawierające wszystkie znaki obecne w wyrazie\n",
    "        a2 = [b for b in s2]\n",
    "        a3 = [c for c in s3]\n",
    "        a1.sort() #sortuję każdą listę po to żeby móc iterować po poszczególnych elementach (w anagramie wszystkie muszą być takie same)\n",
    "        a2.sort()\n",
    "        a3.sort()\n",
    "#         print(a1,a2,a3) #dla sprawdzenia jak wyglądają moje listy\n",
    "        stan = False #początkowo ustalam stan(anagram czy nie) jako false (zmiana na true jeśli wszystkie warunki dla anagramu zostaną spełnione)\n",
    "        k = [] #tworzę pustą listę na numery indeksów o tych samych literach\n",
    "        if len(s1) <= 5 and len(s2) <= 5 and len(s3) <= 5: #założenie max długości znaków 5\n",
    "            for i in range(0,len(a1)): #iteruję po numerach indeksów\n",
    "                if a1[i] == a2[i] and a2[i] == a3[i]: #warunek: jeśli wszystkie znaki o tych samych indeksach są jednakowe:\n",
    "                    k.append(i) #dodaj numer indeksu do listy\n",
    "            if len(k) == len(a1): #jeśli liczba elementów w k jest taka sama jak w a1 (wszystkie anagramy mają tą samą długość więc może być którekolwiek z a1, a2 i a3)\n",
    "                stan = True #zmień stan na True\n",
    "      \n",
    "        else: \n",
    "            print('Przekroczono maksymalną długość znaków') #zwracane jeśli łańcuch znaków ma więcej niż 5 elementów \n",
    "\n",
    "        return stan  #zwracam  True = anagram, False = wyrazy nie są anagramami\n",
    "    if len(s1)!=len(s2) or len(s1)!=len(s3):\n",
    "        return 'Wyrazy o różnej liczbie znaków nie są anagramami'"
   ]
  },
  {
   "cell_type": "code",
   "execution_count": 8,
   "metadata": {},
   "outputs": [
    {
     "data": {
      "text/plain": [
       "True"
      ]
     },
     "execution_count": 8,
     "metadata": {},
     "output_type": "execute_result"
    }
   ],
   "source": [
    "are_anagrams('karsa', 'raska', 'askar')"
   ]
  },
  {
   "cell_type": "code",
   "execution_count": 9,
   "metadata": {},
   "outputs": [
    {
     "data": {
      "text/plain": [
       "False"
      ]
     },
     "execution_count": 9,
     "metadata": {},
     "output_type": "execute_result"
    }
   ],
   "source": [
    "are_anagrams('karsa', 'maska', 'askar')"
   ]
  },
  {
   "cell_type": "code",
   "execution_count": 10,
   "metadata": {},
   "outputs": [
    {
     "data": {
      "text/plain": [
       "'Wyrazy o różnej liczbie znaków nie są anagramami'"
      ]
     },
     "execution_count": 10,
     "metadata": {},
     "output_type": "execute_result"
    }
   ],
   "source": [
    "are_anagrams('karsa', 'rasa', 'akasr')"
   ]
  },
  {
   "cell_type": "code",
   "execution_count": 16,
   "metadata": {},
   "outputs": [],
   "source": [
    "#w przypadku anagramów bez powtarzających się liter (można wtedy skorzystać ze zbiorów) - moje pierwsze podejście do problemu, przy testowaniu kodu zauważyłam, że anagramy o powtarzających się znakach mogą być przeszkodą ze względu na to, że set jest bez powtórzeń\n",
    "def are_anagrams_one(s1, s2, s3):\n",
    "    while len(set(s1)) == len(set(s2)) and len(set(s1)) == len(set(s3)):\n",
    "        words = [set(s1),set(s2),set(s3)] #tworzę listę ze zbiorami zawierającymi wszystkie litery\n",
    "        words.sort() #sortuję zbiory alfabetycznie\n",
    "#     print(words) #sprawdzam jak wyglądają moje zbiory liter\n",
    "\n",
    "        if len(s1) <= 5 and len(s2) <= 5 and len(s3) <= 5: #założenie max długości znaków 5\n",
    "            if words[0].issubset(words[1]) and words[0].issubset(words[2]) and words[1].issubset(words[2]): #sprawdzam\n",
    "                #czy wszystkie elementy zbiorów są wspólne\n",
    "                return True #jeśli tak True\n",
    "            else:\n",
    "                return False # w przeciwnym przypadku False\n",
    "        else: \n",
    "            print('Przekroczono maksymalną długość znaków') #zwracane gdy ciąg znaków jest dłuższy od 5"
   ]
  },
  {
   "cell_type": "code",
   "execution_count": 17,
   "metadata": {},
   "outputs": [
    {
     "data": {
      "text/plain": [
       "True"
      ]
     },
     "execution_count": 17,
     "metadata": {},
     "output_type": "execute_result"
    }
   ],
   "source": [
    "are_anagrams_one('kota', 'kato', 'tako')"
   ]
  },
  {
   "cell_type": "code",
   "execution_count": null,
   "metadata": {},
   "outputs": [],
   "source": []
  }
 ],
 "metadata": {
  "celltoolbar": "Edit Metadata",
  "kernelspec": {
   "display_name": "Python 3",
   "language": "python",
   "name": "python3"
  },
  "language_info": {
   "codemirror_mode": {
    "name": "ipython",
    "version": 3
   },
   "file_extension": ".py",
   "mimetype": "text/x-python",
   "name": "python",
   "nbconvert_exporter": "python",
   "pygments_lexer": "ipython3",
   "version": "3.7.4"
  }
 },
 "nbformat": 4,
 "nbformat_minor": 2
}
